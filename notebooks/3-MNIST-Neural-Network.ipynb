{
 "cells": [
  {
   "cell_type": "code",
   "execution_count": 2,
   "metadata": {},
   "outputs": [],
   "source": [
    "#Importar las librerias\n",
    "import tensorflow as tf\n",
    "from tensorflow.examples.tutorials.mnist import input_data\n",
    "# Data_set MNIST http://yann.lecun.com/exdb/mnist/ "
   ]
  },
  {
   "cell_type": "code",
   "execution_count": 3,
   "metadata": {},
   "outputs": [
    {
     "name": "stdout",
     "output_type": "stream",
     "text": [
      "WARNING:tensorflow:From <ipython-input-3-8ad70774596a>:1: read_data_sets (from tensorflow.contrib.learn.python.learn.datasets.mnist) is deprecated and will be removed in a future version.\n",
      "Instructions for updating:\n",
      "Please use alternatives such as official/mnist/dataset.py from tensorflow/models.\n",
      "WARNING:tensorflow:From e:\\development\\deeplearning\\deep_env\\lib\\site-packages\\tensorflow\\contrib\\learn\\python\\learn\\datasets\\mnist.py:260: maybe_download (from tensorflow.contrib.learn.python.learn.datasets.base) is deprecated and will be removed in a future version.\n",
      "Instructions for updating:\n",
      "Please write your own downloading logic.\n",
      "WARNING:tensorflow:From e:\\development\\deeplearning\\deep_env\\lib\\site-packages\\tensorflow\\contrib\\learn\\python\\learn\\datasets\\mnist.py:262: extract_images (from tensorflow.contrib.learn.python.learn.datasets.mnist) is deprecated and will be removed in a future version.\n",
      "Instructions for updating:\n",
      "Please use tf.data to implement this functionality.\n",
      "Extracting ../data\\train-images-idx3-ubyte.gz\n",
      "WARNING:tensorflow:From e:\\development\\deeplearning\\deep_env\\lib\\site-packages\\tensorflow\\contrib\\learn\\python\\learn\\datasets\\mnist.py:267: extract_labels (from tensorflow.contrib.learn.python.learn.datasets.mnist) is deprecated and will be removed in a future version.\n",
      "Instructions for updating:\n",
      "Please use tf.data to implement this functionality.\n",
      "Extracting ../data\\train-labels-idx1-ubyte.gz\n",
      "WARNING:tensorflow:From e:\\development\\deeplearning\\deep_env\\lib\\site-packages\\tensorflow\\contrib\\learn\\python\\learn\\datasets\\mnist.py:110: dense_to_one_hot (from tensorflow.contrib.learn.python.learn.datasets.mnist) is deprecated and will be removed in a future version.\n",
      "Instructions for updating:\n",
      "Please use tf.one_hot on tensors.\n",
      "Extracting ../data\\t10k-images-idx3-ubyte.gz\n",
      "Extracting ../data\\t10k-labels-idx1-ubyte.gz\n",
      "WARNING:tensorflow:From e:\\development\\deeplearning\\deep_env\\lib\\site-packages\\tensorflow\\contrib\\learn\\python\\learn\\datasets\\mnist.py:290: DataSet.__init__ (from tensorflow.contrib.learn.python.learn.datasets.mnist) is deprecated and will be removed in a future version.\n",
      "Instructions for updating:\n",
      "Please use alternatives such as official/mnist/dataset.py from tensorflow/models.\n"
     ]
    }
   ],
   "source": [
    "mnist =  input_data.read_data_sets(\"../data\", one_hot=True)"
   ]
  },
  {
   "cell_type": "code",
   "execution_count": 4,
   "metadata": {},
   "outputs": [
    {
     "name": "stdout",
     "output_type": "stream",
     "text": [
      "WARNING:tensorflow:From e:\\development\\deeplearning\\deep_env\\lib\\site-packages\\tensorflow\\python\\framework\\op_def_library.py:263: colocate_with (from tensorflow.python.framework.ops) is deprecated and will be removed in a future version.\n",
      "Instructions for updating:\n",
      "Colocations handled automatically by placer.\n"
     ]
    }
   ],
   "source": [
    "x = tf.placeholder(tf.float32, shape=[None, 784]) #Entradas de la red\n",
    "W = tf.Variable(tf.zeros([784, 10])) #Matriz de pesos de 784 \"entradas\" y 10 posibles salidas\n",
    "b = tf.Variable(tf.zeros([10])) # Un tensor con los biases\n",
    "y = tf.matmul(x,W)+b  #y = W x X + B\n",
    "labels = tf.placeholder(tf.float32, [None, 10]) #Etiquetas para la clasificación"
   ]
  },
  {
   "cell_type": "markdown",
   "metadata": {},
   "source": [
    "## Definir la función de activación, luego costo y finalmente aplicar softmax "
   ]
  },
  {
   "cell_type": "code",
   "execution_count": 6,
   "metadata": {},
   "outputs": [],
   "source": [
    "logits = tf.sigmoid(y)\n",
    "probs = tf.nn.softmax_cross_entropy_with_logits(labels=labels, logits=logits)\n",
    "loss = tf.reduce_mean(probs)\n",
    "#Learning rate\n",
    "learning_rate = 0.5\n",
    "optimizer = tf.train.GradientDescentOptimizer(learning_rate).minimize(loss)"
   ]
  },
  {
   "cell_type": "markdown",
   "metadata": {},
   "source": [
    "## Metricas de evaluación de la Red"
   ]
  },
  {
   "cell_type": "code",
   "execution_count": 7,
   "metadata": {
    "scrolled": true
   },
   "outputs": [],
   "source": [
    "correct_preds = tf.equal(tf.argmax(logits,axis=1), tf.argmax(labels, axis=1))\n",
    "precission = tf.reduce_mean(tf.cast(correct_preds, tf.float32))\n",
    "Production = tf.argmax(logits,1) #aaa\n",
    "init = tf.global_variables_initializer()"
   ]
  },
  {
   "cell_type": "code",
   "execution_count": 8,
   "metadata": {},
   "outputs": [],
   "source": [
    "#Vamos a entrenar a la Red Neuronal\n",
    "def train_advance (epoc_i, session, last_feature, last_labels):\n",
    "    loss_current = session.run (loss, feed_dict={x: last_feature, labels: last_labels})\n",
    "    accuracy = session.run(precission, feed_dict = {x:mnist.validation.images, labels: mnist.validation.labels })\n",
    "    print('Epoca: {:<4} - Costo: {:<8.3} Certeza: {:<5.3}'.format(epoc_i,loss_current,accuracy))"
   ]
  },
  {
   "cell_type": "code",
   "execution_count": 9,
   "metadata": {
    "scrolled": false
   },
   "outputs": [
    {
     "name": "stdout",
     "output_type": "stream",
     "text": [
      "Epoca: 0    - Costo: 2.24     Certeza: 0.0946\n",
      "Epoca: 50   - Costo: 1.8      Certeza: 0.826\n",
      "Epoca: 100  - Costo: 1.75     Certeza: 0.847\n",
      "Epoca: 150  - Costo: 1.71     Certeza: 0.858\n",
      "Epoca: 200  - Costo: 1.66     Certeza: 0.863\n",
      "Epoca: 250  - Costo: 1.65     Certeza: 0.871\n",
      "Epoca: 300  - Costo: 1.66     Certeza: 0.873\n",
      "Epoca: 350  - Costo: 1.67     Certeza: 0.871\n",
      "Epoca: 400  - Costo: 1.67     Certeza: 0.881\n",
      "Epoca: 450  - Costo: 1.65     Certeza: 0.879\n",
      "Epoca: 500  - Costo: 1.65     Certeza: 0.88 \n",
      "Epoca: 550  - Costo: 1.6      Certeza: 0.881\n",
      "Epoca: 600  - Costo: 1.6      Certeza: 0.885\n",
      "Epoca: 650  - Costo: 1.65     Certeza: 0.885\n",
      "Epoca: 700  - Costo: 1.64     Certeza: 0.887\n",
      "Epoca: 750  - Costo: 1.64     Certeza: 0.89 \n",
      "Epoca: 800  - Costo: 1.65     Certeza: 0.892\n",
      "Epoca: 850  - Costo: 1.63     Certeza: 0.889\n",
      "Epoca: 900  - Costo: 1.62     Certeza: 0.89 \n",
      "Epoca: 950  - Costo: 1.59     Certeza: 0.891\n",
      "Final result: 0.8877\n",
      "Image result [1]\n"
     ]
    }
   ],
   "source": [
    "with tf.Session() as session:\n",
    "    session.run(init)\n",
    "    for epoc_i in range (1000):\n",
    "        batch_x, batch_y  = mnist.train.next_batch(100)\n",
    "        session.run(optimizer, feed_dict ={x: batch_x, labels: batch_y})\n",
    "        if (epoc_i%50==0):\n",
    "            train_advance (epoc_i, session, batch_x, batch_y)\n",
    "    print ('Final result:', session.run(precission, feed_dict = {x: mnist.test.images, labels: mnist.test.labels}))\n",
    "    print ('Image result',session.run(Production, feed_dict= {x: mnist.test.images[5].reshape(1,784)}))"
   ]
  },
  {
   "cell_type": "code",
   "execution_count": null,
   "metadata": {},
   "outputs": [],
   "source": []
  }
 ],
 "metadata": {
  "kernelspec": {
   "display_name": "deep_env",
   "language": "python",
   "name": "deep_env"
  },
  "language_info": {
   "codemirror_mode": {
    "name": "ipython",
    "version": 3
   },
   "file_extension": ".py",
   "mimetype": "text/x-python",
   "name": "python",
   "nbconvert_exporter": "python",
   "pygments_lexer": "ipython3",
   "version": "3.7.3"
  }
 },
 "nbformat": 4,
 "nbformat_minor": 2
}
