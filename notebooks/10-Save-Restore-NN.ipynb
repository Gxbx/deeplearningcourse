{
 "cells": [
  {
   "cell_type": "code",
   "execution_count": 2,
   "metadata": {},
   "outputs": [
    {
     "name": "stderr",
     "output_type": "stream",
     "text": [
      "Using TensorFlow backend.\n"
     ]
    }
   ],
   "source": [
    "from keras.models import Sequential, save_model, load_model\n",
    "from keras.layers import Dense, Dropout\n",
    "from keras.optimizers import RMSprop\n",
    "from keras.datasets import mnist\n",
    "from keras.utils import np_utils\n",
    "from keras.callbacks import ModelCheckpoint\n",
    "from sklearn.metrics import confusion_matrix"
   ]
  },
  {
   "cell_type": "code",
   "execution_count": 3,
   "metadata": {},
   "outputs": [],
   "source": [
    "# Hyper parameters\n",
    "batch_size = 128\n",
    "epoch = 5\n",
    "\n",
    "# Parameters for MNIST dataset\n",
    "num_classes = 10\n",
    "\n",
    "# Parameters for MLP\n",
    "prob_drop_input = 0.2               # drop probability for dropout @ input layer\n",
    "prob_drop_hidden = 0.5              # drop probability for dropout @ fc layer"
   ]
  },
  {
   "cell_type": "code",
   "execution_count": 4,
   "metadata": {},
   "outputs": [],
   "source": [
    "# Load MNIST dataset\n",
    "(X_train, y_train), (X_test, y_test) = mnist.load_data()\n",
    "X_train = X_train.reshape(60000, 784)\n",
    "X_test = X_test.reshape(10000, 784)\n",
    "X_train = X_train.astype('float32')\n",
    "X_test = X_test.astype('float32')\n",
    "X_train /= 255\n",
    "X_test /= 255\n",
    "Y_Train = np_utils.to_categorical(y_train, num_classes)\n",
    "Y_Test = np_utils.to_categorical(y_test, num_classes)"
   ]
  },
  {
   "cell_type": "code",
   "execution_count": 36,
   "metadata": {},
   "outputs": [
    {
     "name": "stderr",
     "output_type": "stream",
     "text": [
      "e:\\development\\deeplearning\\deep_env\\lib\\site-packages\\ipykernel_launcher.py:3: UserWarning: Update your `Dense` call to the Keras 2 API: `Dense(input_dim=784, activation=\"relu\", units=625, kernel_initializer=\"normal\")`\n",
      "  This is separate from the ipykernel package so we can avoid doing imports until\n",
      "e:\\development\\deeplearning\\deep_env\\lib\\site-packages\\ipykernel_launcher.py:5: UserWarning: Update your `Dense` call to the Keras 2 API: `Dense(input_dim=625, activation=\"relu\", units=625, kernel_initializer=\"normal\")`\n",
      "  \"\"\"\n",
      "e:\\development\\deeplearning\\deep_env\\lib\\site-packages\\ipykernel_launcher.py:7: UserWarning: Update your `Dense` call to the Keras 2 API: `Dense(input_dim=625, activation=\"softmax\", units=10, kernel_initializer=\"normal\")`\n",
      "  import sys\n"
     ]
    },
    {
     "name": "stdout",
     "output_type": "stream",
     "text": [
      "_________________________________________________________________\n",
      "Layer (type)                 Output Shape              Param #   \n",
      "=================================================================\n",
      "dense_7 (Dense)              (None, 625)               490625    \n",
      "_________________________________________________________________\n",
      "dropout_5 (Dropout)          (None, 625)               0         \n",
      "_________________________________________________________________\n",
      "dense_8 (Dense)              (None, 625)               391250    \n",
      "_________________________________________________________________\n",
      "dropout_6 (Dropout)          (None, 625)               0         \n",
      "_________________________________________________________________\n",
      "dense_9 (Dense)              (None, 10)                6260      \n",
      "=================================================================\n",
      "Total params: 888,135\n",
      "Trainable params: 888,135\n",
      "Non-trainable params: 0\n",
      "_________________________________________________________________\n"
     ]
    }
   ],
   "source": [
    "#MLP\n",
    "model = Sequential()\n",
    "model.add(Dense(output_dim=625, input_dim=784, init='normal', activation='relu'))\n",
    "model.add(Dropout(prob_drop_input))\n",
    "model.add(Dense(output_dim=625, input_dim=625, init='normal', activation='relu'))\n",
    "model.add(Dropout(prob_drop_hidden))\n",
    "model.add(Dense(output_dim=10, input_dim=625, init='normal', activation='softmax'))\n",
    "model.compile(optimizer=RMSprop(lr=0.001, rho=0.9), loss='categorical_crossentropy', metrics=['accuracy'])\n",
    "model.summary()"
   ]
  },
  {
   "cell_type": "code",
   "execution_count": 37,
   "metadata": {},
   "outputs": [
    {
     "name": "stdout",
     "output_type": "stream",
     "text": [
      "Train on 60000 samples, validate on 10000 samples\n",
      "Epoch 1/5\n",
      "60000/60000 [==============================] - 20s 333us/step - loss: 0.2595 - acc: 0.9206 - val_loss: 0.1090 - val_acc: 0.9673\n",
      "Epoch 2/5\n",
      "60000/60000 [==============================] - 21s 342us/step - loss: 0.1117 - acc: 0.9666 - val_loss: 0.0806 - val_acc: 0.9768\n",
      "Epoch 3/5\n",
      "60000/60000 [==============================] - 23s 384us/step - loss: 0.0833 - acc: 0.9756 - val_loss: 0.0754 - val_acc: 0.9789\n",
      "Epoch 4/5\n",
      "60000/60000 [==============================] - 20s 335us/step - loss: 0.0687 - acc: 0.9796 - val_loss: 0.0786 - val_acc: 0.9779\n",
      "Epoch 5/5\n",
      "60000/60000 [==============================] - 20s 327us/step - loss: 0.0571 - acc: 0.9842 - val_loss: 0.0989 - val_acc: 0.9774\n"
     ]
    }
   ],
   "source": [
    "#Entrenar y guardar el entrenamiento \n",
    "save_model(model, '../save/models')\n",
    "checkpoint = ModelCheckpoint(filepath='../save/weights/weights.epoch.hdf5', verbose=0)\n",
    "history = model.fit(X_train,Y_Train, epochs=epoch, \n",
    "                    batch_size=batch_size, callbacks=[checkpoint],\n",
    "                   validation_data=(X_test,Y_Test))"
   ]
  },
  {
   "cell_type": "code",
   "execution_count": 38,
   "metadata": {},
   "outputs": [
    {
     "name": "stdout",
     "output_type": "stream",
     "text": [
      "10000/10000 [==============================] - 1s 145us/step\n",
      "Loss= 0.09889175333149615\n",
      "Accuracy= 0.9774\n"
     ]
    }
   ],
   "source": [
    "#Evalución\n",
    "evaluation = model.evaluate(X_test, Y_Test)\n",
    "print('Loss=',evaluation[0])\n",
    "print('Accuracy=',evaluation[1])"
   ]
  },
  {
   "cell_type": "code",
   "execution_count": 39,
   "metadata": {},
   "outputs": [
    {
     "name": "stdout",
     "output_type": "stream",
     "text": [
      "[[ 974    1    0    0    0    0    2    1    2    0]\n",
      " [   2 1125    2    0    0    1    2    0    3    0]\n",
      " [   9    1  990    0    3    0    5    8   16    0]\n",
      " [   9    0   10  960    0    6    0    6    9   10]\n",
      " [   1    0    0    0  966    0    5    2    0    8]\n",
      " [   3    0    0    2    1  876    6    1    2    1]\n",
      " [   3    2    0    0    3    3  945    0    2    0]\n",
      " [   4    2    4    0    1    0    0 1003    2   12]\n",
      " [  10    1    2    0    4    3    2    2  943    7]\n",
      " [   6    2    0    1    6    1    0    2    1  990]]\n"
     ]
    }
   ],
   "source": [
    "# Predicting the Test set results\n",
    "y_pred = model.predict(X_test)\n",
    "y_pred = (y_pred > 0.5)\n",
    "# Creating the Confusion Matrix\n",
    "cm = confusion_matrix(Y_Test.argmax(axis=1), y_pred.argmax(axis=1))\n",
    "print (cm)"
   ]
  },
  {
   "cell_type": "code",
   "execution_count": 6,
   "metadata": {},
   "outputs": [
    {
     "name": "stdout",
     "output_type": "stream",
     "text": [
      "WARNING:tensorflow:From e:\\development\\deeplearning\\deep_env\\lib\\site-packages\\tensorflow\\python\\framework\\op_def_library.py:263: colocate_with (from tensorflow.python.framework.ops) is deprecated and will be removed in a future version.\n",
      "Instructions for updating:\n",
      "Colocations handled automatically by placer.\n",
      "WARNING:tensorflow:From e:\\development\\deeplearning\\deep_env\\lib\\site-packages\\keras\\backend\\tensorflow_backend.py:3445: calling dropout (from tensorflow.python.ops.nn_ops) with keep_prob is deprecated and will be removed in a future version.\n",
      "Instructions for updating:\n",
      "Please use `rate` instead of `keep_prob`. Rate should be set to `rate = 1 - keep_prob`.\n",
      "_________________________________________________________________\n",
      "Layer (type)                 Output Shape              Param #   \n",
      "=================================================================\n",
      "dense_7 (Dense)              (None, 625)               490625    \n",
      "_________________________________________________________________\n",
      "dropout_5 (Dropout)          (None, 625)               0         \n",
      "_________________________________________________________________\n",
      "dense_8 (Dense)              (None, 625)               391250    \n",
      "_________________________________________________________________\n",
      "dropout_6 (Dropout)          (None, 625)               0         \n",
      "_________________________________________________________________\n",
      "dense_9 (Dense)              (None, 10)                6260      \n",
      "=================================================================\n",
      "Total params: 888,135\n",
      "Trainable params: 888,135\n",
      "Non-trainable params: 0\n",
      "_________________________________________________________________\n"
     ]
    }
   ],
   "source": [
    "#Restaurar el modeloya guardado\n",
    "loaded_model = load_model('../save/models')\n",
    "loaded_model.load_weights('../save/weights/weights.epoch.hdf5')\n",
    "loaded_model.summary()"
   ]
  },
  {
   "cell_type": "code",
   "execution_count": 7,
   "metadata": {},
   "outputs": [
    {
     "name": "stdout",
     "output_type": "stream",
     "text": [
      "10000/10000 [==============================] - 0s 28us/step\n",
      "Loss= 0.09889175333149615\n",
      "Accuracy= 0.9774\n"
     ]
    }
   ],
   "source": [
    "evaluation_loaded = loaded_model.evaluate(X_test, Y_Test)\n",
    "print('Loss=',evaluation_loaded[0])\n",
    "print('Accuracy=',evaluation_loaded[1])"
   ]
  },
  {
   "cell_type": "code",
   "execution_count": 66,
   "metadata": {
    "scrolled": false
   },
   "outputs": [
    {
     "name": "stdout",
     "output_type": "stream",
     "text": [
      "[[0.         0.         0.         0.         0.         0.\n",
      "  0.         0.         0.         0.         0.         0.\n",
      "  0.         0.         0.         0.         0.         0.\n",
      "  0.         0.         0.         0.         0.         0.\n",
      "  0.         0.         0.         0.         0.         0.\n",
      "  0.         0.         0.         0.         0.         0.\n",
      "  0.         0.         0.         0.         0.         0.\n",
      "  0.         0.         0.         0.         0.         0.\n",
      "  0.         0.         0.         0.         0.         0.\n",
      "  0.         0.         0.         0.         0.         0.\n",
      "  0.         0.         0.         0.         0.         0.\n",
      "  0.         0.         0.         0.         0.         0.\n",
      "  0.         0.         0.         0.         0.         0.\n",
      "  0.         0.         0.         0.         0.         0.\n",
      "  0.         0.         0.         0.         0.         0.\n",
      "  0.         0.         0.         0.         0.         0.\n",
      "  0.         0.         0.         0.         0.         0.\n",
      "  0.         0.         0.         0.         0.         0.\n",
      "  0.         0.         0.         0.         0.         0.\n",
      "  0.         0.         0.         0.         0.         0.\n",
      "  0.         0.         0.         0.         0.         0.\n",
      "  0.         0.         0.         0.         0.         0.\n",
      "  0.         0.         0.         0.         0.         0.\n",
      "  0.         0.         0.         0.         0.         0.\n",
      "  0.         0.         0.         0.         0.         0.\n",
      "  0.19607843 0.8784314  0.         0.         0.         0.\n",
      "  0.         0.         0.         0.27450982 0.11372549 0.\n",
      "  0.         0.         0.         0.         0.         0.\n",
      "  0.         0.         0.         0.         0.         0.\n",
      "  0.         0.         0.         0.         0.4745098  0.90588236\n",
      "  0.         0.         0.         0.         0.         0.\n",
      "  0.         0.5803922  0.65882355 0.         0.         0.\n",
      "  0.         0.         0.         0.         0.         0.\n",
      "  0.         0.         0.         0.         0.         0.\n",
      "  0.         0.01568628 0.7647059  0.90588236 0.         0.\n",
      "  0.         0.         0.         0.         0.         0.3764706\n",
      "  0.8235294  0.04313726 0.         0.         0.         0.\n",
      "  0.         0.         0.         0.         0.         0.\n",
      "  0.         0.         0.         0.         0.         0.27058825\n",
      "  0.9882353  0.5254902  0.         0.         0.         0.\n",
      "  0.         0.         0.         0.44705883 0.9882353  0.08235294\n",
      "  0.         0.         0.         0.         0.         0.\n",
      "  0.         0.         0.         0.         0.         0.\n",
      "  0.         0.         0.1764706  0.9254902  0.8509804  0.04705882\n",
      "  0.         0.         0.         0.         0.         0.\n",
      "  0.         0.7529412  0.9882353  0.08235294 0.         0.\n",
      "  0.         0.         0.         0.         0.         0.\n",
      "  0.         0.         0.         0.         0.         0.\n",
      "  0.65882355 0.96862745 0.20784314 0.         0.         0.\n",
      "  0.         0.         0.         0.         0.07058824 1.\n",
      "  0.99215686 0.08235294 0.         0.         0.         0.\n",
      "  0.         0.         0.         0.         0.         0.\n",
      "  0.         0.         0.         0.32941177 0.9490196  0.827451\n",
      "  0.         0.         0.         0.         0.         0.\n",
      "  0.         0.         0.5529412  0.99215686 0.7411765  0.01960784\n",
      "  0.         0.         0.         0.         0.         0.\n",
      "  0.         0.         0.         0.         0.         0.\n",
      "  0.         0.6627451  0.9882353  0.41568628 0.         0.\n",
      "  0.         0.         0.         0.         0.         0.1254902\n",
      "  0.9098039  0.98039216 0.25882354 0.         0.         0.\n",
      "  0.         0.         0.         0.         0.         0.\n",
      "  0.         0.         0.         0.         0.05882353 0.88235295\n",
      "  0.9882353  0.         0.         0.         0.         0.\n",
      "  0.         0.         0.         0.5254902  0.9882353  0.827451\n",
      "  0.         0.         0.         0.         0.         0.\n",
      "  0.         0.         0.         0.         0.         0.\n",
      "  0.         0.         0.08627451 0.9882353  0.6431373  0.\n",
      "  0.         0.         0.         0.         0.         0.\n",
      "  0.         0.6627451  0.9882353  0.654902   0.         0.\n",
      "  0.         0.         0.         0.         0.         0.\n",
      "  0.         0.         0.         0.         0.         0.\n",
      "  0.03529412 0.8        0.81960785 0.07058824 0.         0.\n",
      "  0.         0.         0.         0.         0.08627451 0.99215686\n",
      "  0.99215686 0.41960785 0.         0.         0.         0.\n",
      "  0.         0.         0.         0.         0.         0.\n",
      "  0.         0.         0.         0.         0.         0.6627451\n",
      "  0.9882353  0.78039217 0.33333334 0.33333334 0.33333334 0.33333334\n",
      "  0.5058824  0.6431373  0.7647059  0.9882353  0.9882353  0.41568628\n",
      "  0.         0.         0.         0.         0.         0.\n",
      "  0.         0.         0.         0.         0.         0.\n",
      "  0.         0.         0.         0.16078432 0.6666667  0.9607843\n",
      "  0.9882353  0.9882353  0.9882353  0.9882353  0.9098039  0.90588236\n",
      "  0.9843137  0.9882353  0.9882353  0.03529412 0.         0.\n",
      "  0.         0.         0.         0.         0.         0.\n",
      "  0.         0.         0.         0.         0.         0.\n",
      "  0.         0.         0.         0.19215687 0.32941177 0.32941177\n",
      "  0.32941177 0.32941177 0.         0.         0.6313726  0.9882353\n",
      "  0.9882353  0.         0.         0.         0.         0.\n",
      "  0.         0.         0.         0.         0.         0.\n",
      "  0.         0.         0.         0.         0.         0.\n",
      "  0.         0.         0.         0.         0.         0.\n",
      "  0.         0.         0.49803922 0.9882353  0.9882353  0.1764706\n",
      "  0.         0.         0.         0.         0.         0.\n",
      "  0.         0.         0.         0.         0.         0.\n",
      "  0.         0.         0.         0.         0.         0.\n",
      "  0.         0.         0.         0.         0.         0.\n",
      "  0.5019608  0.99215686 0.99215686 0.         0.         0.\n",
      "  0.         0.         0.         0.         0.         0.\n",
      "  0.         0.         0.         0.         0.         0.\n",
      "  0.         0.         0.         0.         0.         0.\n",
      "  0.         0.         0.         0.         0.49803922 0.9882353\n",
      "  0.9882353  0.         0.         0.         0.         0.\n",
      "  0.         0.         0.         0.         0.         0.\n",
      "  0.         0.         0.         0.         0.         0.\n",
      "  0.         0.         0.         0.         0.         0.\n",
      "  0.         0.         0.5294118  0.9882353  0.95686275 0.\n",
      "  0.         0.         0.         0.         0.         0.\n",
      "  0.         0.         0.         0.         0.         0.\n",
      "  0.         0.         0.         0.         0.         0.\n",
      "  0.         0.         0.         0.         0.         0.\n",
      "  0.9098039  0.9254902  0.43529412 0.         0.         0.\n",
      "  0.         0.         0.         0.         0.         0.\n",
      "  0.         0.         0.         0.         0.         0.\n",
      "  0.         0.         0.         0.         0.         0.\n",
      "  0.         0.         0.         0.         0.7019608  0.25882354\n",
      "  0.         0.         0.         0.         0.         0.\n",
      "  0.         0.         0.         0.         0.         0.\n",
      "  0.         0.         0.         0.         0.         0.\n",
      "  0.         0.         0.         0.         0.         0.\n",
      "  0.         0.         0.         0.         0.         0.\n",
      "  0.         0.         0.         0.         0.         0.\n",
      "  0.         0.         0.         0.         0.         0.\n",
      "  0.         0.         0.         0.         0.         0.\n",
      "  0.         0.         0.         0.         0.         0.\n",
      "  0.         0.         0.         0.         0.         0.\n",
      "  0.         0.         0.         0.         0.         0.\n",
      "  0.         0.         0.         0.         0.         0.\n",
      "  0.         0.         0.         0.         0.         0.\n",
      "  0.         0.         0.         0.         0.         0.\n",
      "  0.         0.         0.         0.         0.         0.\n",
      "  0.         0.         0.         0.        ]]\n",
      "[[1.8153870e-10 1.6251939e-09 7.7818230e-10 2.2315184e-12 9.9996161e-01\n",
      "  1.8012251e-10 4.4028246e-11 1.1599633e-06 3.2221126e-09 3.7220259e-05]]\n"
     ]
    },
    {
     "data": {
      "image/png": "[encoded data removed]",
      "text/plain": [
       "<Figure size 432x288 with 1 Axes>"
      ]
     },
     "metadata": {
      "needs_background": "light"
     },
     "output_type": "display_data"
    }
   ],
   "source": [
    "import numpy as np\n",
    "import matplotlib.pyplot as plt #for plotting\n",
    "%matplotlib inline\n",
    "\n",
    "test_im = X_test[4:5]\n",
    "print(test_im)\n",
    "plt.imshow(test_im.reshape(28,28), cmap='viridis', interpolation='none')\n",
    "\n",
    "print(loaded_model.predict(X_test[4:5]))\n"
   ]
  },
  {
   "cell_type": "code",
   "execution_count": null,
   "metadata": {},
   "outputs": [],
   "source": []
  }
 ],
 "metadata": {
  "kernelspec": {
   "display_name": "deep_env",
   "language": "python",
   "name": "deep_env"
  },
  "language_info": {
   "codemirror_mode": {
    "name": "ipython",
    "version": 3
   },
   "file_extension": ".py",
   "mimetype": "text/x-python",
   "name": "python",
   "nbconvert_exporter": "python",
   "pygments_lexer": "ipython3",
   "version": "3.7.3"
  }
 },
 "nbformat": 4,
 "nbformat_minor": 2
}
